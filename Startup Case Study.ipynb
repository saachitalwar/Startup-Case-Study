{
 "cells": [
  {
   "cell_type": "markdown",
   "metadata": {},
   "source": [
    "1. Your Friend has developed the Product and he wants to establish the product startup and he is searching for a perfect location where getting the investment has a high chance. But due to its financial restriction, he can choose only between three locations - Bangalore, Mumbai, and NCR. As a friend, you want to help your friend deciding the location. NCR include Gurgaon, Noida and New Delhi. Find the location where most number of funding is done. That means, find the location where startups has received funding maximum number of times. Plot the bar graph between location and number of funding. Take city name \"Delhi\" as \"New Delhi\". Check the case-sensitiveness of cities also. That means, at some place instead of \"Bangalore\", \"bangalore\" is given. Take city name as \"Bangalore\". For few startups multiple locations are given, one Indian and one Foreign. Consider the startup if any one of the city lies in given locations."
   ]
  },
  {
   "cell_type": "code",
   "execution_count": 2,
   "metadata": {},
   "outputs": [
    {
     "data": {
      "image/png": "[encoded data removed]",
      "text/plain": [
       "<Figure size 432x288 with 1 Axes>"
      ]
     },
     "metadata": {
      "needs_background": "light"
     },
     "output_type": "display_data"
    },
    {
     "name": "stdout",
     "output_type": "stream",
     "text": [
      "Bangalore 629\n",
      "Mumbai 446\n",
      "NCR 382\n"
     ]
    }
   ],
   "source": [
    "# SOLUTION 1\n",
    "\n",
    "import matplotlib.pyplot as plt\n",
    "import numpy as np\n",
    "import pandas as pd\n",
    "import csv\n",
    "\n",
    "def city_name(s):\n",
    "    s = str(s)\n",
    "    list = s.strip().split('/')\n",
    "    if 'New Delhi' in list:\n",
    "        return 'New Delhi'\n",
    "    elif 'Bangalore' in list:\n",
    "        return 'Bangalore'\n",
    "    elif 'Mumbai' in list:\n",
    "        return 'Mumbai'\n",
    "    \n",
    "x = pd.read_csv('C:/Users/Saachi/Desktop/CN/clusterfuck/startup_funding.csv')\n",
    "df = x.copy()\n",
    "df['CityLocation' == 'Delhi']  = 'New Delhi'\n",
    "df['CityLocation' == 'bangalore']  = 'Bangalore'\n",
    "df['CityLocation'] = df['CityLocation'].apply(city_name)\n",
    "\n",
    "b = df[df.CityLocation == 'Bangalore']\n",
    "m = df[df.CityLocation == 'Mumbai']\n",
    "nd = df[df.CityLocation == 'New Delhi']\n",
    "n = df[df.CityLocation == 'Noida']\n",
    "g = df[df.CityLocation == 'Gurgaon']\n",
    "\n",
    "ncr = len(nd)+len(n)+len(g)\n",
    "mum = len(m)\n",
    "ban = len(b)\n",
    "\n",
    "places = ['Bangalore', 'Mumbai', 'NCR']\n",
    "fundings = [ban, mum, ncr]\n",
    "\n",
    "d = dict(zip(places, fundings)) \n",
    "\n",
    "plt.bar(places,fundings,width=0.5, edgecolor=\"black\")\n",
    "plt.title('Finding the Best Location for Start-Up')\n",
    "plt.xlabel('Location')\n",
    "plt.ylabel('Number of Fundings Received')\n",
    "plt.show()\n",
    "\n",
    "for i in d:\n",
    "    print(i, d[i])"
   ]
  },
  {
   "cell_type": "markdown",
   "metadata": {},
   "source": [
    "2. Even after trying for so many times, your friend’s startup could not find the investment. So, you decided to take this matter in your hand and try to find the list of investors who probably can invest in your friend’s startup. Your list will increase the chance of your friend startup getting some initial investment by contacting these investors. Find the top 5 investors who have invested maximum number of times (consider repeat investments in one company also). In a startup, multiple investors might have invested. So, consider each investor for that startup. Ignore undisclosed investors."
   ]
  },
  {
   "cell_type": "code",
   "execution_count": 4,
   "metadata": {},
   "outputs": [
    {
     "name": "stdout",
     "output_type": "stream",
     "text": [
      "Sequoia Capital 64\n",
      "Accel Partners 52\n",
      "Kalaari Capital 44\n",
      "SAIF Partners 41\n",
      "Indian Angel Network 40\n"
     ]
    }
   ],
   "source": [
    "# SOLUTION 2\n",
    "\n",
    "import matplotlib.pyplot as plt\n",
    "import pandas as pd\n",
    "import numpy as np\n",
    "import csv\n",
    "\n",
    "with open('C:/Users/Saachi/Desktop/CN/clusterfuck/startup_funding.csv', encoding='utf8') as file_obj:\n",
    "    file_data=csv.DictReader(file_obj, skipinitialspace=True)\n",
    "    inv=[]\n",
    "    for row in file_data:\n",
    "        if not ('Undisclosed' in row['InvestorsName'] or 'undisclosed' in row['InvestorsName']):\n",
    "            for i in row['InvestorsName'].split(','):\n",
    "                inv.append(i.strip())\n",
    "    dic=dict()\n",
    "    for i in inv:\n",
    "        if i in dic.keys():\n",
    "            dic[i]+=1\n",
    "        else:\n",
    "            dic[i]=1\n",
    "    x = []\n",
    "    y = []\n",
    "    for i in dic.keys():\n",
    "        x.append(i)\n",
    "        y.append(dic[i])\n",
    "    np_x = np.array(x)\n",
    "    np_y= np.array(y)\n",
    "    np_x = np_x[np.argsort(np_y)]  #sorting np_x wrt no. of investments\n",
    "    np_y = np.sort(np_y)\n",
    "    \n",
    "    np_x = np_x[len(np_x)-1:len(np_x)-1-6:-1]\n",
    "    np_y = np_y[len(np_y)-1:len(np_y)-1-6:-1]\n",
    "    \n",
    "    for i in range(len(np_x)):\n",
    "        if np_x[i] == '':\n",
    "            continue\n",
    "        print(np_x[i], np_y[i])\n",
    "        \n",
    "#Sequoia Capital 64\n",
    "#Accel Partners 52\n",
    "#Kalaari Capital 44\n",
    "#SAIF Partners 41\n",
    "#Indian Angel Network 40"
   ]
  },
  {
   "cell_type": "markdown",
   "metadata": {},
   "source": [
    "3. After re-analysing the dataset, you found out that some investors have invested in the same startup at different number of funding rounds. So before finalising the previous list, you want to improvise it by finding the top 5 investors who have invested in different number of start-ups. This list will be more helpful than your previous list in finding the investment for your friend start-up. Find the top 5 investors who have invested maximum number of times in different companies. That means, if one investor has invested multiple times in one start-up, count one for that company. There are many errors in start-up names. Ignore correcting all, just handle the important ones - Ola, Flipkart, Oyo and Paytm."
   ]
  },
  {
   "cell_type": "code",
   "execution_count": 8,
   "metadata": {},
   "outputs": [
    {
     "data": {
      "image/png": "[encoded data removed]",
      "text/plain": [
       "<Figure size 432x288 with 1 Axes>"
      ]
     },
     "metadata": {
      "needs_background": "light"
     },
     "output_type": "display_data"
    },
    {
     "name": "stdout",
     "output_type": "stream",
     "text": [
      "Sequoia Capital 48\n",
      "Accel Partners 47\n",
      "Kalaari Capital 41\n",
      "Indian Angel Network 40\n",
      "Blume Ventures 36\n"
     ]
    }
   ],
   "source": [
    "# SOLUTION 3\n",
    "\n",
    "import pandas as pd\n",
    "import numpy as np\n",
    "import matplotlib.pyplot as plt\n",
    "import csv\n",
    "\n",
    "file_obj = open(\"C:/Users/Saachi/Desktop/CN/clusterfuck/startup_funding.csv\")\n",
    "file_data = csv.DictReader(file_obj, skipinitialspace = True)\n",
    "\n",
    "d = {}\n",
    "\n",
    "for row in file_data:\n",
    "    if row[\"StartupName\"] == \"Ola Cabs\" or row[\"StartupName\"] == \"Olacabs\":\n",
    "        row[\"StartupName\"] = \"Ola\"\n",
    "    if row[\"StartupName\"] == \"Flipkart.com\":\n",
    "        row[\"StartupName\"] = \"Flipkart\"\n",
    "    if row[\"StartupName\"] == \"Oyo Rooms\" or row[\"StartupName\"] == \"OyoRooms\" or row[\"StartupName\"] == \"Oyorooms\" or row[\"StartupName\"] == \"OYO Rooms\":\n",
    "        row[\"StartupName\"] = \"Oyo\"\n",
    "    if row[\"StartupName\"] == \"Paytm Marketplace\":\n",
    "        row[\"StartupName\"] = \"Paytm\"\n",
    "        \n",
    "    value = row[\"InvestorsName\"].split(\",\")\n",
    "    for i in range(len(value)):\n",
    "        value[i] = value[i].strip()\n",
    "    for i in value:\n",
    "        if(row[\"StartupName\"] != None) and i != \"\" and i != \"Undisclosed Investors\" and i != \"Undisclosed investors\" :\n",
    "            if i in d:\n",
    "                d[i].add(row[\"StartupName\"])\n",
    "            else:\n",
    "                d[i] = set()\n",
    "                d[i].add(row[\"StartupName\"])\n",
    "\n",
    "for i in d.keys():\n",
    "    d[i] = len(d[i])\n",
    "\n",
    "d1 = sorted(d, key = d.get, reverse = True)\n",
    "\n",
    "investors = d1[0:5]\n",
    "num_of_companies = []\n",
    "\n",
    "top_10_investors = d1[0:5]\n",
    "number = []\n",
    "\n",
    "for i in top_10_investors:\n",
    "    number.append(d[i])\n",
    "\n",
    "for i in investors:\n",
    "    num_of_companies.append(d[i])\n",
    "    \n",
    "plt.bar(investors, num_of_companies)\n",
    "plt.xlabel(\"INVESTOR'S NAME\")\n",
    "plt.ylabel(\"NO. OF COMPANIES INVESTED IN\")\n",
    "plt.title(\"Top 5 Investors in Distinct companies\")\n",
    "plt.xticks(rotation = 15)\n",
    "plt.grid()\n",
    "\n",
    "plt.show()\n",
    "\n",
    "for i in investors:\n",
    "    print(i,d[i])\n",
    "    \n",
    "#Sequoia Capital 48\n",
    "#Accel Partners 47\n",
    "#Kalaari Capital 41\n",
    "#Indian Angel Network 40\n",
    "#Blume Ventures 36"
   ]
  },
  {
   "cell_type": "markdown",
   "metadata": {},
   "source": [
    "4.\tEven after putting so much effort in finding the probable investors, it didn't turn out to be helpful for your friend. So you went to your investor friend to understand the situation better and your investor friend explained to you about the different Investment Types and their features. This new information will be helpful in finding the right investor. Since your friend’s start-up is at an early stage start-up, the best-suited investment type would be - Seed Funding and Crowdfunding. Find the top 5 investors who have invested in a different number of start-ups and their investment type is Crowdfunding or Seed Funding. Correct spelling of investment types is - \"Private Equity\", \"Seed Funding\", \"Debt Funding\", and \"Crowd Funding\". Keep an eye for any spelling mistake. You can find this by printing unique values from this column. There are many errors in start-up names. Ignore correcting all, just handle the important ones - Ola, Flipkart, Oyo and Paytm."
   ]
  },
  {
   "cell_type": "code",
   "execution_count": 7,
   "metadata": {},
   "outputs": [
    {
     "data": {
      "image/png": "[encoded data removed]",
      "text/plain": [
       "<Figure size 432x288 with 1 Axes>"
      ]
     },
     "metadata": {
      "needs_background": "light"
     },
     "output_type": "display_data"
    },
    {
     "name": "stdout",
     "output_type": "stream",
     "text": [
      "Indian Angel Network 33\n",
      "Rajan Anandan 22\n",
      "LetsVenture 16\n",
      "Anupam Mittal 16\n",
      "Kunal Shah 14\n"
     ]
    }
   ],
   "source": [
    "import pandas as pd\n",
    "import numpy as np\n",
    "import matplotlib.pyplot as plt\n",
    "import csv\n",
    "\n",
    "file_obj = open(\"C:/Users/Saachi/Desktop/CN/clusterfuck/startup_funding.csv\")\n",
    "file_data = csv.DictReader(file_obj, skipinitialspace = True)\n",
    "\n",
    "d = {}\n",
    "\n",
    "for row in file_data:\n",
    "    if row[\"StartupName\"] == \"Ola Cabs\" or row[\"StartupName\"] == \"Olacabs\":\n",
    "        row[\"StartupName\"] = \"Ola\"\n",
    "    if row[\"StartupName\"] == \"Flipkart.com\":\n",
    "        row[\"StartupName\"] = \"Flipkart\"\n",
    "    if row[\"StartupName\"] == \"Oyo Rooms\" or row[\"StartupName\"] == \"OyoRooms\" or row[\"StartupName\"] == \"Oyorooms\" or row[\"StartupName\"] == \"OYO Rooms\":\n",
    "        row[\"StartupName\"] = \"Oyo\"\n",
    "    if row[\"StartupName\"] == \"Paytm Marketplace\":\n",
    "        row[\"StartupName\"] = \"Paytm\"\n",
    "        \n",
    "    if row[\"InvestmentType\"] == \"PrivateEquity\":\n",
    "        row[\"InvestmentType\"] = \"Private Equity\"\n",
    "    if row[\"InvestmentType\"] == \"SeedFunding\":\n",
    "        row[\"InvestmentType\"] = \"Seed Funding\"\n",
    "    if row[\"InvestmentType\"] == \"Crowd funding\":\n",
    "        row[\"InvestmentType\"] = \"Crowd Funding\"\n",
    "        \n",
    "    value = row[\"InvestorsName\"].split(\",\")\n",
    "    for i in range(len(value)):\n",
    "        value[i] = value[i].strip()\n",
    "    for i in value:\n",
    "        if(row[\"StartupName\"] != None) and i != \"\" and i != \"Undisclosed Investors\" and i != \"Undisclosed investors\" :\n",
    "            if 'Seed Funding' in row['InvestmentType'] or 'Crowd Funding' in row['InvestmentType']:\n",
    "                if i in d:\n",
    "                    d[i].add(row[\"StartupName\"])\n",
    "                else:\n",
    "                    d[i] = set()\n",
    "                    d[i].add(row[\"StartupName\"])\n",
    "\n",
    "for i in d.keys():\n",
    "    d[i] = len(d[i])\n",
    "\n",
    "dict = sorted(d, key = d.get, reverse = True)\n",
    "\n",
    "investors = dict[0:5]\n",
    "num_of_companies = []\n",
    "\n",
    "top_10_investors = dict[0:10]\n",
    "number = []\n",
    "\n",
    "for i in top_10_investors:\n",
    "    number.append(d[i])\n",
    "\n",
    "for i in investors:\n",
    "    num_of_companies.append(d[i])\n",
    "    \n",
    "plt.bar(investors, num_of_companies)\n",
    "plt.xlabel(\"Name of Investor\")\n",
    "plt.ylabel(\"Number of Companies Invested in\")\n",
    "plt.title(\"Top 5 Investors in Distinct Companies\")\n",
    "plt.xticks(rotation = 15)\n",
    "plt.grid()\n",
    "\n",
    "plt.show()\n",
    "\n",
    "for i in investors:\n",
    "    print(i,d[i])\n",
    "    \n",
    "#Indian Angel Network 33\n",
    "#Rajan Anandan 23\n",
    "#LetsVenture 16\n",
    "#Anupam Mittal 16\n",
    "#Kunal Shah 14"
   ]
  },
  {
   "cell_type": "markdown",
   "metadata": {},
   "source": [
    "5.\tDue to your immense help, your friend start-up successfully got seed funding and it is on the operational mode. Now your friend wants to expand his start-up and he is looking for new investors for his start-up. Now you again come as a saviour to help your friend and want to create a list of probable new investors. Before moving forward, you remember your investor friend advice that finding the investors by analysing the investment type. Since your friend start-up is not in early phase it is in growth stage so the best-suited investment type is Private Equity. Find the top 5 investors who have invested in a different number of start-ups and their investment type is Private Equity. Correct spelling of investment types is: \"Private Equity\", \"Seed Funding\", \"Debt Funding\", and \"Crowd Funding\". Keep an eye for any spelling mistake. You can find this by printing unique values from this column. There are many errors in start-up names. Ignore correcting all, just handle the important ones - Ola, Flipkart, Oyo and Paytm."
   ]
  },
  {
   "cell_type": "code",
   "execution_count": 8,
   "metadata": {},
   "outputs": [
    {
     "data": {
      "image/png": "[encoded data removed]",
      "text/plain": [
       "<Figure size 432x288 with 1 Axes>"
      ]
     },
     "metadata": {
      "needs_background": "light"
     },
     "output_type": "display_data"
    },
    {
     "name": "stdout",
     "output_type": "stream",
     "text": [
      "Sequoia Capital 45\n",
      "Accel Partners 42\n",
      "Kalaari Capital 35\n",
      "Blume Ventures 27\n",
      "SAIF Partners 23\n"
     ]
    }
   ],
   "source": [
    "# SOLUTION 5\n",
    "\n",
    "import pandas as pd\n",
    "import numpy as np\n",
    "import matplotlib.pyplot as plt\n",
    "import csv\n",
    "\n",
    "file_obj = open(\"C:/Users/Saachi/Desktop/CN/clusterfuck/startup_funding.csv\")\n",
    "file_data = csv.DictReader(file_obj, skipinitialspace = True)\n",
    "\n",
    "d = {}\n",
    "\n",
    "for row in file_data:\n",
    "    if row[\"StartupName\"] == \"Ola Cabs\" or row[\"StartupName\"] == \"Olacabs\":\n",
    "        row[\"StartupName\"] = \"Ola\"\n",
    "    if row[\"StartupName\"] == \"Flipkart.com\":\n",
    "        row[\"StartupName\"] = \"Flipkart\"\n",
    "    if row[\"StartupName\"] == \"Oyo Rooms\" or row[\"StartupName\"] == \"OyoRooms\" or row[\"StartupName\"] == \"Oyorooms\" or row[\"StartupName\"] == \"OYO Rooms\":\n",
    "        row[\"StartupName\"] = \"Oyo\"\n",
    "    if row[\"StartupName\"] == \"Paytm Marketplace\":\n",
    "        row[\"StartupName\"] = \"Paytm\"\n",
    "        \n",
    "    if row[\"InvestmentType\"] == \"PrivateEquity\":\n",
    "        row[\"InvestmentType\"] = \"Private Equity\"\n",
    "    if row[\"InvestmentType\"] == \"SeedFunding\":\n",
    "        row[\"InvestmentType\"] = \"Seed Funding\"\n",
    "    if row[\"InvestmentType\"] == \"Crowd funding\":\n",
    "        row[\"InvestmentType\"] = \"Crowd Funding\"\n",
    "        \n",
    "    value = row[\"InvestorsName\"].split(\",\")\n",
    "    for i in range(len(value)):\n",
    "        value[i] = value[i].strip()\n",
    "    for i in value:\n",
    "        if(row[\"StartupName\"] != None) and i != \"\" and i != \"Undisclosed Investors\" and i != \"Undisclosed investors\" :\n",
    "            if 'Private Equity' in row['InvestmentType']:\n",
    "                if i in d:\n",
    "                    d[i].add(row[\"StartupName\"])\n",
    "                else:\n",
    "                    d[i] = set()\n",
    "                    d[i].add(row[\"StartupName\"])\n",
    "\n",
    "for i in d.keys():\n",
    "    d[i] = len(d[i])\n",
    "\n",
    "dict = sorted(d, key = d.get, reverse = True)\n",
    "\n",
    "investors = dict[0:5]\n",
    "num_of_companies = []\n",
    "\n",
    "top_10_investors = dict[0:10]\n",
    "number = []\n",
    "\n",
    "for i in top_10_investors:\n",
    "    number.append(d[i])\n",
    "\n",
    "for i in investors:\n",
    "    num_of_companies.append(d[i])\n",
    "    \n",
    "plt.bar(investors, num_of_companies)\n",
    "plt.xlabel(\"Name of Investor\")\n",
    "plt.ylabel(\"Number of Companies Invested in\")\n",
    "plt.title(\"Top 5 Investors in Distinct Companies\")\n",
    "plt.xticks(rotation = 15)\n",
    "plt.grid()\n",
    "\n",
    "plt.show()\n",
    "\n",
    "for i in investors:\n",
    "    print(i,d[i])\n",
    "    \n",
    "#Sequoia Capital 45\n",
    "#Accel Partners 43\n",
    "#Kalaari Capital 35\n",
    "#Blume Ventures 27\n",
    "#SAIF Partners 24"
   ]
  },
  {
   "cell_type": "code",
   "execution_count": null,
   "metadata": {},
   "outputs": [],
   "source": []
  }
 ],
 "metadata": {
  "kernelspec": {
   "display_name": "Python 3",
   "language": "python",
   "name": "python3"
  },
  "language_info": {
   "codemirror_mode": {
    "name": "ipython",
    "version": 3
   },
   "file_extension": ".py",
   "mimetype": "text/x-python",
   "name": "python",
   "nbconvert_exporter": "python",
   "pygments_lexer": "ipython3",
   "version": "3.8.3"
  }
 },
 "nbformat": 4,
 "nbformat_minor": 2
}
